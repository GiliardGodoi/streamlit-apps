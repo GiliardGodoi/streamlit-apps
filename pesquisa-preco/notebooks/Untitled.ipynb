{
 "cells": [
  {
   "cell_type": "code",
   "execution_count": 39,
   "id": "d8049ab1",
   "metadata": {},
   "outputs": [],
   "source": [
    "import joblib\n",
    "import numpy as np\n",
    "import pandas as pd\n",
    "import string\n",
    "import re\n",
    "\n",
    "from xml.etree import ElementTree as ET\n",
    "from xml.etree.ElementTree import ParseError\n",
    "from pathlib import Path\n",
    "from zipfile import ZipFile"
   ]
  },
  {
   "cell_type": "code",
   "execution_count": 2,
   "id": "c7889fd1",
   "metadata": {},
   "outputs": [],
   "source": [
    "from annoy import AnnoyIndex"
   ]
  },
  {
   "cell_type": "code",
   "execution_count": 27,
   "id": "fce7ae16",
   "metadata": {},
   "outputs": [
    {
     "data": {
      "text/plain": [
       "399"
      ]
     },
     "execution_count": 27,
     "metadata": {},
     "output_type": "execute_result"
    }
   ],
   "source": [
    "file = Path('..', 'data', '2022_PIT_TodosArquivos.zip')\n",
    "\n",
    "assert file.exists()\n",
    "\n",
    "zf = ZipFile(file)\n",
    "\n",
    "files_licitacao = [zf.open(f) for f in zf.namelist() if 'Licitacao' in f]\n",
    "\n",
    "len(files_licitacao)"
   ]
  },
  {
   "cell_type": "code",
   "execution_count": 28,
   "id": "11293faf",
   "metadata": {},
   "outputs": [
    {
     "data": {
      "text/plain": [
       "<zipfile.ZipExtFile name='2022_410170_Licitacao.zip' mode='r' compress_type=deflate>"
      ]
     },
     "execution_count": 28,
     "metadata": {},
     "output_type": "execute_result"
    }
   ],
   "source": [
    "files_licitacao[20]"
   ]
  },
  {
   "cell_type": "code",
   "execution_count": 29,
   "id": "07702bbe",
   "metadata": {},
   "outputs": [],
   "source": [
    "def get_data(folder : Path):\n",
    "    all_data = list()\n",
    "    for f in folder.glob('*LicitacaoVencedor.xml'):\n",
    "      try:\n",
    "        tree = ET.parse(f)\n",
    "        root = tree.getroot()\n",
    "        print(f, end='\\r')\n",
    "        all_data.extend([{\n",
    "            'idlicitacao' : child.attrib['idlicitacao'],\n",
    "            'nrLote' : child.attrib['nrLote'],\n",
    "            'nrItem' : child.attrib['nrItem'],\n",
    "            'dsItem' : child.attrib['dsItem'],\n",
    "            } for child in root])\n",
    "      except ParseError as error:\n",
    "        print(error, f)\n",
    "\n",
    "    return pd.DataFrame(all_data)"
   ]
  },
  {
   "cell_type": "code",
   "execution_count": 34,
   "id": "28f4d5f5",
   "metadata": {},
   "outputs": [],
   "source": [
    "data = list()\n",
    "for file in files_licitacao:\n",
    "    licitacao_vencedor = [f for f in ZipFile(file).namelist() if 'LicitacaoVencedor' in f]\n",
    "    if len(licitacao_vencedor) == 1:\n",
    "        file_licitacao_vencedor = ZipFile(file).open(licitacao_vencedor[0])\n",
    "        try:\n",
    "            tree = ET.parse(file_licitacao_vencedor)\n",
    "            root = tree.getroot()\n",
    "            data.extend([{\n",
    "                    'idlicitacao' : child.attrib['idlicitacao'],\n",
    "                    'nrLote' : child.attrib['nrLote'],\n",
    "                    'nrItem' : child.attrib['nrItem'],\n",
    "                    'dsItem' : child.attrib['dsItem'],\n",
    "                    } for child in root])\n",
    "        except ParseError as error:\n",
    "            print(error, file)\n",
    "    "
   ]
  },
  {
   "cell_type": "code",
   "execution_count": 35,
   "id": "7b689199",
   "metadata": {},
   "outputs": [],
   "source": [
    "df = pd.DataFrame(data)"
   ]
  },
  {
   "cell_type": "code",
   "execution_count": 36,
   "id": "1aacc00a",
   "metadata": {},
   "outputs": [
    {
     "name": "stdout",
     "output_type": "stream",
     "text": [
      "<class 'pandas.core.frame.DataFrame'>\n",
      "RangeIndex: 3587391 entries, 0 to 3587390\n",
      "Data columns (total 4 columns):\n",
      " #   Column       Dtype \n",
      "---  ------       ----- \n",
      " 0   idlicitacao  object\n",
      " 1   nrLote       object\n",
      " 2   nrItem       object\n",
      " 3   dsItem       object\n",
      "dtypes: object(4)\n",
      "memory usage: 109.5+ MB\n"
     ]
    }
   ],
   "source": [
    "df.info()"
   ]
  },
  {
   "cell_type": "code",
   "execution_count": 40,
   "id": "c13ef8d2",
   "metadata": {},
   "outputs": [],
   "source": [
    "df['formatted'] = (df['dsItem']\n",
    "                    .apply(lambda t: t.lower() )\n",
    "                    .apply(lambda text :  text.translate(str.maketrans('áàãâäéèêëóòõôöíìîïúùüç', 'aaaaaeeeeoooooiiiiuuuc')))\n",
    "                    .apply(lambda text : text.translate(str.maketrans(string.punctuation, len(string.punctuation) * ' ', 'ªº°')) )\n",
    "                    .apply(lambda t : re.sub('\\s+', ' ', t))\n",
    "                    .apply(lambda t : re.sub('\\s+pct\\s{0,}', ' pacote ', t) )\n",
    "                    .apply(lambda t : re.sub('\\s+cx\\s{0,}', ' caixa ', t) )\n",
    "                    .apply(lambda t : re.sub('\\s+uni\\s{1,}|\\s+und\\s{0,}|\\s+unds\\s{0,}', ' unidade ', t) )\n",
    "                    .apply(lambda t : re.sub('\\s+c/', ' com', t) )\n",
    "                    .apply(lambda t : re.sub('\\s+p/', ' para', t) )\n",
    "                    .apply(lambda t : re.sub('(\\d{1,})\\s{0,}litros{0,}|(\\d{1,})\\s{0,}lts{0,}', r'\\1_litro', t))\n",
    "                    .apply(lambda t : re.sub('(\\d{1,})\\s{0,}l', r'\\1_litro', t))\n",
    "                    .apply(lambda t : re.sub('(\\d{1,})\\s{0,}gramas{0,}|(\\d{1,})\\s{0,}gr\\s{1,}', r'\\1_grama', t))\n",
    "                    .apply(lambda t : re.sub('(\\d+)\\s{0,}grs', r'\\1_grama', t))\n",
    "                    .apply(lambda t : re.sub('(\\d{1,})\\s{0,}kg|(\\d{1,})\\s{0,}kgs', r'\\1_quilo', t))\n",
    "                    .apply(lambda t : re.sub('(\\d{1,})\\s{0,}ml ', r'\\1_ml', t) )\n",
    "                    .apply(lambda t : re.sub('^\\d+', '', t))\n",
    "                    .apply(lambda t : re.sub('\\s+\\d+$', ' codigo', t) )\n",
    "                )"
   ]
  },
  {
   "cell_type": "code",
   "execution_count": 42,
   "id": "b68c522c",
   "metadata": {},
   "outputs": [
    {
     "data": {
      "text/html": [
       "<div>\n",
       "<style scoped>\n",
       "    .dataframe tbody tr th:only-of-type {\n",
       "        vertical-align: middle;\n",
       "    }\n",
       "\n",
       "    .dataframe tbody tr th {\n",
       "        vertical-align: top;\n",
       "    }\n",
       "\n",
       "    .dataframe thead th {\n",
       "        text-align: right;\n",
       "    }\n",
       "</style>\n",
       "<table border=\"1\" class=\"dataframe\">\n",
       "  <thead>\n",
       "    <tr style=\"text-align: right;\">\n",
       "      <th></th>\n",
       "      <th>idlicitacao</th>\n",
       "      <th>nrLote</th>\n",
       "      <th>nrItem</th>\n",
       "      <th>dsItem</th>\n",
       "      <th>formatted</th>\n",
       "    </tr>\n",
       "  </thead>\n",
       "  <tbody>\n",
       "    <tr>\n",
       "      <th>0</th>\n",
       "      <td>1837502</td>\n",
       "      <td>48</td>\n",
       "      <td>1</td>\n",
       "      <td>MILHO BRANCO PARA CANJICA 500GR</td>\n",
       "      <td>milho branco para canjica 500gr</td>\n",
       "    </tr>\n",
       "    <tr>\n",
       "      <th>1</th>\n",
       "      <td>1837502</td>\n",
       "      <td>49</td>\n",
       "      <td>1</td>\n",
       "      <td>MILHO PARA PIPOCA 500 GR</td>\n",
       "      <td>milho para pipoca 500 gr</td>\n",
       "    </tr>\n",
       "    <tr>\n",
       "      <th>2</th>\n",
       "      <td>1837502</td>\n",
       "      <td>50</td>\n",
       "      <td>1</td>\n",
       "      <td>MILHO VERDE EM CONSERVA 200 G</td>\n",
       "      <td>milho verde em conserva 200 g</td>\n",
       "    </tr>\n",
       "    <tr>\n",
       "      <th>3</th>\n",
       "      <td>1837502</td>\n",
       "      <td>54</td>\n",
       "      <td>1</td>\n",
       "      <td>OVOS BANDEJA C 30 UNS</td>\n",
       "      <td>ovos bandeja c 30 uns</td>\n",
       "    </tr>\n",
       "    <tr>\n",
       "      <th>4</th>\n",
       "      <td>1837502</td>\n",
       "      <td>56</td>\n",
       "      <td>1</td>\n",
       "      <td>PEITO DE FRANGO SEM PELE E SEM OSSO</td>\n",
       "      <td>peito de frango sem pele e sem osso</td>\n",
       "    </tr>\n",
       "  </tbody>\n",
       "</table>\n",
       "</div>"
      ],
      "text/plain": [
       "  idlicitacao nrLote nrItem                               dsItem  \\\n",
       "0     1837502     48      1      MILHO BRANCO PARA CANJICA 500GR   \n",
       "1     1837502     49      1             MILHO PARA PIPOCA 500 GR   \n",
       "2     1837502     50      1        MILHO VERDE EM CONSERVA 200 G   \n",
       "3     1837502     54      1                OVOS BANDEJA C 30 UNS   \n",
       "4     1837502     56      1  PEITO DE FRANGO SEM PELE E SEM OSSO   \n",
       "\n",
       "                             formatted  \n",
       "0      milho branco para canjica 500gr  \n",
       "1             milho para pipoca 500 gr  \n",
       "2        milho verde em conserva 200 g  \n",
       "3                ovos bandeja c 30 uns  \n",
       "4  peito de frango sem pele e sem osso  "
      ]
     },
     "execution_count": 42,
     "metadata": {},
     "output_type": "execute_result"
    }
   ],
   "source": [
    "df.head()"
   ]
  },
  {
   "cell_type": "code",
   "execution_count": 41,
   "id": "d31a411a",
   "metadata": {},
   "outputs": [],
   "source": [
    "tfidf_model = joblib.load(Path('models', 'tfidf_model.pkl'))"
   ]
  },
  {
   "cell_type": "code",
   "execution_count": 45,
   "id": "fd82feaf",
   "metadata": {},
   "outputs": [
    {
     "data": {
      "text/plain": [
       "(1, 334407)"
      ]
     },
     "execution_count": 45,
     "metadata": {},
     "output_type": "execute_result"
    }
   ],
   "source": [
    "item = ['caneta esferografica azul']\n",
    "\n",
    "vetor = tfidf_model.transform(item).toarray()\n",
    "\n",
    "vetor.shape"
   ]
  },
  {
   "cell_type": "code",
   "execution_count": null,
   "id": "c2873ed5",
   "metadata": {},
   "outputs": [],
   "source": [
    "dim = 334407\n",
    "search_index = AnnoyIndex(dim, 'angular')\n",
    "\n",
    "for i, row in enumerate(df.itertuples()):\n",
    "    text = [row.formatted]\n",
    "    vetor = tfidf_model.transform(text).toarray()\n",
    "    vetor = vetor.reshape(-1)\n",
    "    search_index.add_item(i, vetor)"
   ]
  },
  {
   "cell_type": "code",
   "execution_count": null,
   "id": "363165bd",
   "metadata": {},
   "outputs": [],
   "source": [
    "search_index.build(10)\n",
    "search_index.save('search_index.ann')"
   ]
  },
  {
   "cell_type": "code",
   "execution_count": null,
   "id": "6ee6667e",
   "metadata": {},
   "outputs": [],
   "source": [
    "exemplo = [ 'pasta classificadora lombo regulavel grampo' ]\n",
    "vetor = tfidf_model.transform(exemplo).toarray()"
   ]
  },
  {
   "cell_type": "code",
   "execution_count": null,
   "id": "54d85a3d",
   "metadata": {},
   "outputs": [],
   "source": [
    "search_index.get_nns_by_vector(vetor, 10)"
   ]
  },
  {
   "cell_type": "code",
   "execution_count": null,
   "id": "57e888a4",
   "metadata": {},
   "outputs": [],
   "source": []
  }
 ],
 "metadata": {
  "kernelspec": {
   "display_name": "ML-Lab",
   "language": "python",
   "name": "mllab"
  },
  "language_info": {
   "codemirror_mode": {
    "name": "ipython",
    "version": 3
   },
   "file_extension": ".py",
   "mimetype": "text/x-python",
   "name": "python",
   "nbconvert_exporter": "python",
   "pygments_lexer": "ipython3",
   "version": "3.10.9"
  }
 },
 "nbformat": 4,
 "nbformat_minor": 5
}

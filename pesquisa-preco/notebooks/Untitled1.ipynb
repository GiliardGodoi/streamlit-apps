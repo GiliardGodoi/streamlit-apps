{
 "cells": [
  {
   "cell_type": "code",
   "execution_count": 1,
   "id": "2e163d67",
   "metadata": {},
   "outputs": [],
   "source": [
    "import numpy as np\n",
    "import pandas as pd\n",
    "import re\n",
    "import string\n",
    "\n",
    "from pathlib import Path\n",
    "from xml.etree import ElementTree as ET\n",
    "from xml.etree.ElementTree import ParseError\n",
    "from zipfile import ZipFile"
   ]
  },
  {
   "cell_type": "code",
   "execution_count": 75,
   "id": "121bb75f",
   "metadata": {},
   "outputs": [],
   "source": [
    "from sklearn.base import BaseEstimator, TransformerMixin\n",
    "\n",
    "from sklearn.preprocessing import FunctionTransformer\n",
    "from sklearn.pipeline import make_pipeline"
   ]
  },
  {
   "cell_type": "code",
   "execution_count": 68,
   "id": "8ba1c419",
   "metadata": {},
   "outputs": [],
   "source": [
    "\n",
    "class StringReplacePunctuation(BaseEstimator, TransformerMixin):\n",
    "    \n",
    "    def __init__(self, replace_str = ' '):\n",
    "        self.replace_str = replace_str\n",
    "        self.punctuation = string.punctuation\n",
    "        self.to_remove = 'ªº°'\n",
    "        self.translation = str.maketrans(self.punctuation, len(self.punctuation) * replace_str, self.to_remove)\n",
    "        \n",
    "    def _replace_func(self, text : str):\n",
    "        return text.translate(self.translation)\n",
    "    \n",
    "    def fit(self, X):\n",
    "        return self\n",
    "    \n",
    "    def transform(self, X):\n",
    "        return [self._replace_func(t) for t in X]\n",
    "\n",
    "class RegexSubstitution(BaseEstimator, TransformerMixin):\n",
    "    \n",
    "    def __init__(self, old_pattern, new_pattern):\n",
    "        self.old_pattern = old_pattern\n",
    "        self.new_pattern = new_pattern\n",
    "        \n",
    "    def fit(self, X):\n",
    "        return self\n",
    "    \n",
    "    def transform(self, X):\n",
    "        old_pattern = self.old_pattern\n",
    "        new_pattern = self.new_pattern\n",
    "        _function = lambda text : re.sub(old_pattern, new_pattern, text)\n",
    "        \n",
    "        return [_function(t) for t in X]\n",
    "        "
   ]
  },
  {
   "cell_type": "code",
   "execution_count": 22,
   "id": "7a04a4e3",
   "metadata": {},
   "outputs": [
    {
     "data": {
      "text/plain": [
       "'!\"#$%&\\'()*+,-./:;<=>?@[\\\\]^_`{|}~'"
      ]
     },
     "execution_count": 22,
     "metadata": {},
     "output_type": "execute_result"
    }
   ],
   "source": [
    "string.punctuation"
   ]
  },
  {
   "cell_type": "code",
   "execution_count": null,
   "id": "3f9eca75",
   "metadata": {},
   "outputs": [],
   "source": [
    "                    \n",
    "                    .apply(lambda t : re.sub('\\s+pct\\s{0,}', ' pacote ', t) )\n",
    "                    .apply(lambda t : re.sub('\\s+cx\\s{0,}', ' caixa ', t) )\n",
    "                    .apply(lambda t : re.sub('\\s+uni\\s{1,}|\\s+und\\s{0,}|\\s+unds\\s{0,}', ' unidade ', t) )\n",
    "                    .apply(lambda t : re.sub('\\s+c/', ' com', t) )\n",
    "                    .apply(lambda t : re.sub('\\s+p/', ' para', t) )\n",
    "                    .apply(lambda t : re.sub('(\\d{1,})\\s{0,}litros{0,}|(\\d{1,})\\s{0,}lts{0,}', r'\\1_litro', t))\n",
    "                    .apply(lambda t : re.sub('(\\d{1,})\\s{0,}l', r'\\1_litro', t))\n",
    "                    .apply(lambda t : re.sub('(\\d{1,})\\s{0,}gramas{0,}|(\\d{1,})\\s{0,}gr\\s{0,}', r'\\1_grama', t))\n",
    "                    .apply(lambda t : re.sub('(\\d+)\\s{0,}grs\\s{0,}', r'\\1_grama', t))\n",
    "                    .apply(lambda t : re.sub('(\\d{1,})\\s{0,}kg|(\\d{1,})\\s{0,}kgs', r'\\1_quilo', t))\n",
    "                    .apply(lambda t : re.sub('(\\d{1,})\\s{0,}ml ', r'\\1_ml', t) )\n",
    "                    .apply(lambda t : re.sub('^\\d+', '', t))\n",
    "                    .apply(lambda t : re.sub('\\s+\\d+$', ' codigo', t) )"
   ]
  },
  {
   "cell_type": "code",
   "execution_count": 79,
   "id": "15b9763b",
   "metadata": {},
   "outputs": [
    {
     "data": {
      "text/plain": [
       "['carne bovina 30_grama', 'leite de vaca 1_litro', 'ovos 30 unidade']"
      ]
     },
     "execution_count": 79,
     "metadata": {},
     "output_type": "execute_result"
    }
   ],
   "source": [
    "pipe = make_pipeline(\n",
    "    StringReplacePunctuation(),\n",
    "    RegexSubstitution('\\s+', ' '),\n",
    "    RegexSubstitution('\\s+c/', ' com '),\n",
    "    RegexSubstitution('\\s+p/', ' para '),\n",
    "    RegexSubstitution('^\\d+', ''),\n",
    "    RegexSubstitution('\\s+\\d+$', ''),\n",
    "    RegexSubstitution('\\s+pcts?', ' pacote '),\n",
    "    RegexSubstitution('\\s+cxs?', ' caixa '),\n",
    "    RegexSubstitution('\\s+unds?\\s*', ' unidade '),\n",
    "    RegexSubstitution(r'(\\d+)\\s*(lts?)', '\\g<1>_litro'),\n",
    "    RegexSubstitution(r'(\\d+)\\s*(grs?)', '\\g<1>_grama'),\n",
    "    RegexSubstitution(r'(\\d+)\\s*(kgs?)', '\\g<1>_quilo'),\n",
    "    RegexSubstitution(r'(\\d+)\\s*(ml)', '\\g<1>_ml'),\n",
    "    FunctionTransformer(lambda X : [str.lower(t) for t in X ]),\n",
    "    FunctionTransformer(lambda X : [str.strip(t) for t in X ])\n",
    ")\n",
    "\n",
    "pipe.transform(['Carne bovina 30 gr', 'leite de vaca 1lt', 'ovos 30 und'])"
   ]
  }
 ],
 "metadata": {
  "kernelspec": {
   "display_name": "ML-Lab",
   "language": "python",
   "name": "mllab"
  },
  "language_info": {
   "codemirror_mode": {
    "name": "ipython",
    "version": 3
   },
   "file_extension": ".py",
   "mimetype": "text/x-python",
   "name": "python",
   "nbconvert_exporter": "python",
   "pygments_lexer": "ipython3",
   "version": "3.10.9"
  }
 },
 "nbformat": 4,
 "nbformat_minor": 5
}

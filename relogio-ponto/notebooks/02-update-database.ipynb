{
 "cells": [
  {
   "cell_type": "code",
   "execution_count": 1,
   "id": "2f17a847",
   "metadata": {},
   "outputs": [],
   "source": [
    "import re\n",
    "import pandas as pd\n",
    "import numpy as np\n",
    "import sqlite3 \n",
    "import sqlalchemy\n",
    "\n",
    "from sqlalchemy import create_engine\n",
    "from pathlib import Path\n",
    "from datetime import datetime"
   ]
  },
  {
   "cell_type": "code",
   "execution_count": 2,
   "id": "4abad237",
   "metadata": {},
   "outputs": [],
   "source": [
    "engine = create_engine(\"sqlite:///registros.db\", echo=False)"
   ]
  },
  {
   "cell_type": "code",
   "execution_count": 3,
   "id": "f37a15d6",
   "metadata": {},
   "outputs": [
    {
     "data": {
      "text/plain": [
       "[('2020-02-17 11:32:00.000000',)]"
      ]
     },
     "execution_count": 3,
     "metadata": {},
     "output_type": "execute_result"
    }
   ],
   "source": [
    "engine.execute(\"SELECT max(datetime) FROM registros\").fetchall()"
   ]
  },
  {
   "cell_type": "code",
   "execution_count": 4,
   "id": "9f73536b",
   "metadata": {},
   "outputs": [
    {
     "name": "stdout",
     "output_type": "stream",
     "text": [
      "max_sequential number =  43957\n"
     ]
    }
   ],
   "source": [
    "result = engine.execute(\"SELECT max(sequential_number) FROM registros\").fetchall()\n",
    "\n",
    "if not (result and isinstance(result[0], sqlalchemy.engine.row.LegacyRow)):\n",
    "    raise ValueError()\n",
    "\n",
    "max_sequential_number = result[0][0]\n",
    "\n",
    "print('max_sequential number = ', max_sequential_number)"
   ]
  },
  {
   "cell_type": "code",
   "execution_count": 5,
   "id": "a12ed166",
   "metadata": {},
   "outputs": [
    {
     "data": {
      "text/plain": [
       "[WindowsPath('../data/AFD00009000240006234 (1).txt'),\n",
       " WindowsPath('../data/AFD00009000240006234 (2).txt'),\n",
       " WindowsPath('../data/AFD00009000240006234.txt'),\n",
       " WindowsPath('../data/feriados_nacionais.xlsx')]"
      ]
     },
     "execution_count": 5,
     "metadata": {},
     "output_type": "execute_result"
    }
   ],
   "source": [
    "data_folder = Path('..', 'data')\n",
    "\n",
    "data_files = list(data_folder.glob(\"*\"))\n",
    "\n",
    "data_files"
   ]
  },
  {
   "cell_type": "code",
   "execution_count": 6,
   "id": "a3afcea3",
   "metadata": {},
   "outputs": [
    {
     "data": {
      "text/plain": [
       "WindowsPath('../data/AFD00009000240006234.txt')"
      ]
     },
     "execution_count": 6,
     "metadata": {},
     "output_type": "execute_result"
    }
   ],
   "source": [
    "data_files[2]"
   ]
  },
  {
   "cell_type": "code",
   "execution_count": 7,
   "id": "12b3cd7b",
   "metadata": {},
   "outputs": [],
   "source": [
    "pattern = re.compile(\"(\\d{9})(\\d{1})(\\d{2})(\\d{2})(\\d{4})(\\d{2})(\\d{2})(\\w{0,1})(\\d{12})([\\D]+)\")"
   ]
  },
  {
   "cell_type": "code",
   "execution_count": 8,
   "id": "d6bd56ea",
   "metadata": {},
   "outputs": [
    {
     "name": "stdout",
     "output_type": "stream",
     "text": [
      "..\\data\\AFD00009000240006234.txt\n",
      "0000000001177778744000166000000000000CÂMARA MUNICIPAL DE SANTO ANTONIO DA PLATINA                                                                                                          000090002400062341809201419072022190720220926\n",
      "\n",
      "0000000012180920141115177778744000166000000000000CÂMARA MUNICIPAL DE SANTO ANTONIO DA PLATINA                                                                                                          CAMARA MUNICIPAL DE ST. ANT. DA PLATINA                                                             \n",
      "\n",
      "0000210372200320171315177778744000166000000000000SANTO ANTONIO DA PLATINA CAMARA DE VEREADORES                                                                                                         CÂMARA MUNICIPAL DE SANTO ANTÔNIO DA PLATINA - AVENIDA CORONEL OLIVEIRA MOTTA, 715 - CENTRO         \n",
      "\n",
      "0000210522210320170816177778744000166000000000000CÂMARA MUNICIPAL DE SANTO ANTONIO DA PLATINA                                                                                                          CAMARA MUNICIPAL DE ST. ANT. DA PLATINA                                                             \n",
      "\n",
      "9999999990000000030000612280000000150000000899\n",
      "61337 61332\n"
     ]
    }
   ],
   "source": [
    "filename = data_files[2]\n",
    "print(filename)\n",
    "\n",
    "lines = None\n",
    "count_lines = 0\n",
    "count_register = 0\n",
    "\n",
    "data = list()\n",
    "\n",
    "with open(filename, 'r', encoding='ISO8859-1') as file:\n",
    "    for line in file:\n",
    "        count_lines += 1\n",
    "        match = pattern.fullmatch(line)\n",
    "        if match:\n",
    "            count_register += 1\n",
    "            register = match.groups()\n",
    "            if int(register[0]) <= max_sequential_number:\n",
    "                continue\n",
    "            data.append(register)\n",
    "        else:\n",
    "            print(line)\n",
    "        \n",
    "    \n",
    "print(count_lines, count_register)\n",
    "\n",
    "columns = [\n",
    "    'sequential_number',\n",
    "    'cod_op',\n",
    "    'day',\n",
    "    'month',\n",
    "    'year',\n",
    "    'hour',\n",
    "    'minutes',\n",
    "    'cod_input',\n",
    "    'pis',\n",
    "    'name'\n",
    "]\n",
    "\n",
    "frame = pd.DataFrame(data, columns=columns)\n",
    "\n",
    "del data\n",
    "\n",
    "# frame['name'] = frame['name'].str.replace('\\ {0,}\\n{1,}', '')\n",
    "frame['name'] = frame.name.str.strip('[ \\n]')\n",
    "\n",
    "\n",
    "frame[['name', 'cod_input']] = frame[['name', 'cod_input']].replace('', np.nan)\n",
    "\n",
    "numeric_attribs = ['sequential_number', 'cod_op', 'day', 'month', 'year', 'hour', 'minutes' ]\n",
    "\n",
    "frame[numeric_attribs] = frame[numeric_attribs].astype(int)\n",
    "\n",
    "date_attribs = [ 'year', 'month', 'day', 'hour', 'minutes']\n",
    "\n",
    "frame['datetime']  = pd.to_datetime(frame[date_attribs])"
   ]
  },
  {
   "cell_type": "code",
   "execution_count": 9,
   "id": "cd0a80b1",
   "metadata": {},
   "outputs": [
    {
     "name": "stdout",
     "output_type": "stream",
     "text": [
      "(17378, 11)\n"
     ]
    },
    {
     "data": {
      "text/html": [
       "<div>\n",
       "<style scoped>\n",
       "    .dataframe tbody tr th:only-of-type {\n",
       "        vertical-align: middle;\n",
       "    }\n",
       "\n",
       "    .dataframe tbody tr th {\n",
       "        vertical-align: top;\n",
       "    }\n",
       "\n",
       "    .dataframe thead th {\n",
       "        text-align: right;\n",
       "    }\n",
       "</style>\n",
       "<table border=\"1\" class=\"dataframe\">\n",
       "  <thead>\n",
       "    <tr style=\"text-align: right;\">\n",
       "      <th></th>\n",
       "      <th>sequential_number</th>\n",
       "      <th>cod_op</th>\n",
       "      <th>day</th>\n",
       "      <th>month</th>\n",
       "      <th>year</th>\n",
       "      <th>hour</th>\n",
       "      <th>minutes</th>\n",
       "      <th>cod_input</th>\n",
       "      <th>pis</th>\n",
       "      <th>name</th>\n",
       "      <th>datetime</th>\n",
       "    </tr>\n",
       "  </thead>\n",
       "  <tbody>\n",
       "    <tr>\n",
       "      <th>0</th>\n",
       "      <td>43958</td>\n",
       "      <td>3</td>\n",
       "      <td>17</td>\n",
       "      <td>2</td>\n",
       "      <td>2020</td>\n",
       "      <td>12</td>\n",
       "      <td>0</td>\n",
       "      <td>NaN</td>\n",
       "      <td>016002684248</td>\n",
       "      <td>NaN</td>\n",
       "      <td>2020-02-17 12:00:00</td>\n",
       "    </tr>\n",
       "    <tr>\n",
       "      <th>1</th>\n",
       "      <td>43959</td>\n",
       "      <td>3</td>\n",
       "      <td>17</td>\n",
       "      <td>2</td>\n",
       "      <td>2020</td>\n",
       "      <td>12</td>\n",
       "      <td>0</td>\n",
       "      <td>NaN</td>\n",
       "      <td>020071346877</td>\n",
       "      <td>NaN</td>\n",
       "      <td>2020-02-17 12:00:00</td>\n",
       "    </tr>\n",
       "    <tr>\n",
       "      <th>2</th>\n",
       "      <td>43960</td>\n",
       "      <td>3</td>\n",
       "      <td>17</td>\n",
       "      <td>2</td>\n",
       "      <td>2020</td>\n",
       "      <td>12</td>\n",
       "      <td>1</td>\n",
       "      <td>NaN</td>\n",
       "      <td>012699519512</td>\n",
       "      <td>NaN</td>\n",
       "      <td>2020-02-17 12:01:00</td>\n",
       "    </tr>\n",
       "    <tr>\n",
       "      <th>3</th>\n",
       "      <td>43961</td>\n",
       "      <td>3</td>\n",
       "      <td>17</td>\n",
       "      <td>2</td>\n",
       "      <td>2020</td>\n",
       "      <td>12</td>\n",
       "      <td>1</td>\n",
       "      <td>NaN</td>\n",
       "      <td>013118171501</td>\n",
       "      <td>NaN</td>\n",
       "      <td>2020-02-17 12:01:00</td>\n",
       "    </tr>\n",
       "    <tr>\n",
       "      <th>4</th>\n",
       "      <td>43962</td>\n",
       "      <td>3</td>\n",
       "      <td>17</td>\n",
       "      <td>2</td>\n",
       "      <td>2020</td>\n",
       "      <td>12</td>\n",
       "      <td>1</td>\n",
       "      <td>NaN</td>\n",
       "      <td>013979783277</td>\n",
       "      <td>NaN</td>\n",
       "      <td>2020-02-17 12:01:00</td>\n",
       "    </tr>\n",
       "  </tbody>\n",
       "</table>\n",
       "</div>"
      ],
      "text/plain": [
       "   sequential_number  cod_op  day  month  year  hour  minutes cod_input  \\\n",
       "0              43958       3   17      2  2020    12        0       NaN   \n",
       "1              43959       3   17      2  2020    12        0       NaN   \n",
       "2              43960       3   17      2  2020    12        1       NaN   \n",
       "3              43961       3   17      2  2020    12        1       NaN   \n",
       "4              43962       3   17      2  2020    12        1       NaN   \n",
       "\n",
       "            pis name            datetime  \n",
       "0  016002684248  NaN 2020-02-17 12:00:00  \n",
       "1  020071346877  NaN 2020-02-17 12:00:00  \n",
       "2  012699519512  NaN 2020-02-17 12:01:00  \n",
       "3  013118171501  NaN 2020-02-17 12:01:00  \n",
       "4  013979783277  NaN 2020-02-17 12:01:00  "
      ]
     },
     "execution_count": 9,
     "metadata": {},
     "output_type": "execute_result"
    }
   ],
   "source": [
    "print(frame.shape)\n",
    "frame.head()"
   ]
  },
  {
   "cell_type": "code",
   "execution_count": 10,
   "id": "33b9e5a9",
   "metadata": {},
   "outputs": [],
   "source": [
    "with engine.begin() as connection:\n",
    "    frame.to_sql('registros', \n",
    "                     con=connection, \n",
    "                     if_exists='append',\n",
    "                     index=False)"
   ]
  },
  {
   "cell_type": "code",
   "execution_count": 11,
   "id": "3474a28c",
   "metadata": {},
   "outputs": [
    {
     "data": {
      "text/plain": [
       "[(61335,)]"
      ]
     },
     "execution_count": 11,
     "metadata": {},
     "output_type": "execute_result"
    }
   ],
   "source": [
    "engine.execute(\"SELECT max(sequential_number) FROM registros\").fetchall()"
   ]
  },
  {
   "cell_type": "code",
   "execution_count": 12,
   "id": "35f42ae1",
   "metadata": {},
   "outputs": [
    {
     "data": {
      "text/plain": [
       "[('2022-07-19 08:00:00.000000',)]"
      ]
     },
     "execution_count": 12,
     "metadata": {},
     "output_type": "execute_result"
    }
   ],
   "source": [
    "engine.execute(\"SELECT max(datetime) FROM registros\").fetchall()"
   ]
  },
  {
   "cell_type": "code",
   "execution_count": null,
   "id": "73225ab8",
   "metadata": {},
   "outputs": [],
   "source": []
  }
 ],
 "metadata": {
  "kernelspec": {
   "display_name": "Python 3 (ipykernel)",
   "language": "python",
   "name": "python3"
  },
  "language_info": {
   "codemirror_mode": {
    "name": "ipython",
    "version": 3
   },
   "file_extension": ".py",
   "mimetype": "text/x-python",
   "name": "python",
   "nbconvert_exporter": "python",
   "pygments_lexer": "ipython3",
   "version": "3.9.12"
  }
 },
 "nbformat": 4,
 "nbformat_minor": 5
}

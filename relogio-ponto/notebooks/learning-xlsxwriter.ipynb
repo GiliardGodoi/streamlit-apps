{
 "cells": [
  {
   "cell_type": "code",
   "execution_count": 1,
   "id": "e0a7d07a",
   "metadata": {},
   "outputs": [
    {
     "data": {
      "text/plain": [
       "'3.0.3'"
      ]
     },
     "execution_count": 1,
     "metadata": {},
     "output_type": "execute_result"
    }
   ],
   "source": [
    "import xlsxwriter as excel\n",
    "\n",
    "excel.__version__"
   ]
  },
  {
   "cell_type": "code",
   "execution_count": 22,
   "id": "ec97d833",
   "metadata": {},
   "outputs": [],
   "source": [
    "# Workbook ou Arquivo de planilhas\n",
    "wb = excel.Workbook('hello.xlsx')"
   ]
  },
  {
   "cell_type": "code",
   "execution_count": 23,
   "id": "69c2661f",
   "metadata": {},
   "outputs": [
    {
     "data": {
      "text/plain": [
       "0"
      ]
     },
     "execution_count": 23,
     "metadata": {},
     "output_type": "execute_result"
    }
   ],
   "source": [
    "# Worksheet ou Planilha\n",
    "ws = wb.add_worksheet('exemplo1')\n",
    "\n",
    "ws.write('B3', 'Hello world')"
   ]
  },
  {
   "cell_type": "code",
   "execution_count": 24,
   "id": "118b7c02",
   "metadata": {},
   "outputs": [
    {
     "data": {
      "text/plain": [
       "0"
      ]
     },
     "execution_count": 24,
     "metadata": {},
     "output_type": "execute_result"
    }
   ],
   "source": [
    "# wb = excel.Workbook('hello.xlsx')\n",
    "\n",
    "# Worksheet ou Planilha\n",
    "ws = wb.add_worksheet('exemplo2')\n",
    "\n",
    "data = list(range(1, 11))\n",
    "\n",
    "from_row  = 1\n",
    "at_column = 2 # C\n",
    "\n",
    "ws.write_column(from_row, at_column, data)"
   ]
  },
  {
   "cell_type": "code",
   "execution_count": 25,
   "id": "f88d18a4",
   "metadata": {},
   "outputs": [
    {
     "data": {
      "text/plain": [
       "0"
      ]
     },
     "execution_count": 25,
     "metadata": {},
     "output_type": "execute_result"
    }
   ],
   "source": [
    "# wb = excel.Workbook('hello.xlsx')\n",
    "\n",
    "# Worksheet ou Planilha\n",
    "ws = wb.add_worksheet('exemplo3')\n",
    "\n",
    "data = list(range(20, 31))\n",
    "\n",
    "at_row  = 1\n",
    "from_column = 2 # C\n",
    "\n",
    "ws.write_row(at_row, from_column, data)\n",
    "\n"
   ]
  },
  {
   "cell_type": "code",
   "execution_count": 26,
   "id": "7e272991",
   "metadata": {},
   "outputs": [],
   "source": [
    "wb.close()"
   ]
  },
  {
   "cell_type": "code",
   "execution_count": 48,
   "id": "12199dae",
   "metadata": {},
   "outputs": [],
   "source": [
    "workbook = excel.Workbook('sample.xlsx') \n",
    "\n",
    "ws = workbook.add_worksheet('exemplo') \n",
    "  \n",
    "# Data for the table\n",
    "data = [\n",
    "    [1, 2, 3],\n",
    "    [4, 5, 6],\n",
    "    [7, 8, 9],\n",
    "    [10, 11, 12],\n",
    "  \n",
    "]\n",
    "  \n",
    "# Creating the Table\n",
    "ws.add_table('B5:D6', {'data': data})\n",
    "  \n",
    "workbook.close()"
   ]
  },
  {
   "cell_type": "code",
   "execution_count": 41,
   "id": "a7c02ad2",
   "metadata": {},
   "outputs": [],
   "source": [
    "import pandas as pd\n",
    "\n",
    "# Create a Pandas dataframe from some data.\n",
    "df = pd.DataFrame({'Numbers':    [1010, 2020, 3030, 2020, 1515, 3030, 4545],\n",
    "                   'Percentage': [.1,   .2,   .33,  .25,  .5,   .75,  .45 ],\n",
    "})"
   ]
  },
  {
   "cell_type": "code",
   "execution_count": 47,
   "id": "a972944a",
   "metadata": {},
   "outputs": [],
   "source": [
    "# Create a Pandas Excel writer using XlsxWriter as the engine.\n",
    "writer = pd.ExcelWriter(\"exemplo.xlsx\", \n",
    "                        engine='xlsxwriter',)\n",
    "\n",
    "df.to_excel(writer, sheet_name='exemplo2', index=False)\n",
    "\n",
    "wb = writer.book\n",
    "ws = writer.sheets['exemplo2']\n",
    "\n",
    "fmt2 = wb.add_format({'num_format': '0%'})\n",
    "\n",
    "# Set the column width and format.\n",
    "ws.set_column(1, 1, 20, fmt2)\n",
    "\n",
    "writer.save()"
   ]
  },
  {
   "cell_type": "code",
   "execution_count": null,
   "id": "1dec9a3a",
   "metadata": {},
   "outputs": [],
   "source": []
  }
 ],
 "metadata": {
  "kernelspec": {
   "display_name": "Python 3 (ipykernel)",
   "language": "python",
   "name": "python3"
  },
  "language_info": {
   "codemirror_mode": {
    "name": "ipython",
    "version": 3
   },
   "file_extension": ".py",
   "mimetype": "text/x-python",
   "name": "python",
   "nbconvert_exporter": "python",
   "pygments_lexer": "ipython3",
   "version": "3.9.12"
  }
 },
 "nbformat": 4,
 "nbformat_minor": 5
}
